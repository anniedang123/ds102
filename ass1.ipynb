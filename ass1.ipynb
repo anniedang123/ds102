{
 "cells": [
  {
   "cell_type": "markdown",
   "metadata": {},
   "source": [
    "2."
   ]
  },
  {
   "cell_type": "code",
   "execution_count": 83,
   "metadata": {},
   "outputs": [],
   "source": [
    "from scipy.stats import bernoulli\n",
    "from scipy.stats import norm\n",
    "from scipy.stats import uniform\n",
    "#2i\n",
    "def pvaluesi(n, pi):\n",
    "    theta = bernoulli.rvs(1 - pi, size = n)\n",
    "    pval = []\n",
    "    for x in theta:\n",
    "        if x == 0:\n",
    "            pval.append(uniform.rvs(0,1))\n",
    "        elif x == 1:\n",
    "            pval.append(norm.cdf(-norm.rvs(3, 1)))\n",
    "    return pval, theta"
   ]
  },
  {
   "cell_type": "code",
   "execution_count": 84,
   "metadata": {},
   "outputs": [],
   "source": [
    "#2ii\n",
    "def pvaluesii(n, pi):\n",
    "    theta = []\n",
    "    pval = []\n",
    "    for i in range(1, int((pi*n)+1)):\n",
    "        theta.append(0)\n",
    "        pval.append(uniform.rvs(0,1))\n",
    "    for x in range(int((pi*n)+1), n+1):\n",
    "        theta.append(1)\n",
    "        pval.append(norm.cdf(-norm.rvs(3, 1)))  \n",
    "    return pval, theta"
   ]
  },
  {
   "cell_type": "code",
   "execution_count": 85,
   "metadata": {},
   "outputs": [],
   "source": [
    "#2iii\n",
    "def pvaluesiii(n, pi):\n",
    "    theta = []\n",
    "    pval = []\n",
    "    for i in range(1, int((n-(pi*n))+1)):\n",
    "        theta.append(1)\n",
    "        pval.append(norm.cdf(-norm.rvs(3, 1)))\n",
    "    for x in range(int((n-(pi*n))+1), n+1):\n",
    "        theta.append(0)\n",
    "        pval.append(uniform.rvs(0,1))\n",
    "    return pval, theta"
   ]
  },
  {
   "cell_type": "code",
   "execution_count": 86,
   "metadata": {},
   "outputs": [],
   "source": [
    "import math\n",
    "def LORD(stream,alpha):\n",
    "    # Inputs: stream - array of p-values, alpha - target FDR level\n",
    "    # Output: array of indices k such that the k-th p-value corresponds to a discovery\n",
    "    \n",
    "    gamma = lambda t: 6/(math.pi*t)**2\n",
    "    w_0 = alpha/2\n",
    "    n = len(stream)\n",
    "    rejections = []\n",
    "    alpha_t = gamma(1)*w_0\n",
    "    for t in range(1,n+1):\n",
    "        # Offset by one since indexing by 1 for t\n",
    "        p_t = stream[t-1] \n",
    "        \n",
    "        if p_t < alpha_t:\n",
    "            rejections.append(t)\n",
    "\n",
    "        next_alpha_t = gamma(t+1)*w_0 + alpha*sum([gamma(t+1-rej) for rej in rejections])\n",
    "        # Check if tau_1 exists\n",
    "        if len(rejections)>0:\n",
    "            next_alpha_t -= gamma(t+1-rejections[0])*w_0\n",
    "        \n",
    "\n",
    "        # Update alpha\n",
    "        alpha_t = next_alpha_t\n",
    "    # Shift rejections since the rejections are 1-indexed\n",
    "    shifted_rej = [rej-1 for rej in rejections]\n",
    "    return shifted_rej"
   ]
  },
  {
   "cell_type": "code",
   "execution_count": 87,
   "metadata": {},
   "outputs": [],
   "source": [
    "def sens_fdp(lord_index, true_values):\n",
    "    TP = 0\n",
    "    FP = 0\n",
    "    FN = 0\n",
    "    fdp = 0\n",
    "    sensitivity = 0\n",
    "    if len(lord_index) > 0:\n",
    "        for x in lord_index:\n",
    "            if true_values[x] == 1:\n",
    "                TP += 1\n",
    "            if true_values[x] == 0:\n",
    "                FP += 1\n",
    "        fdp = FP/(TP+FP)\n",
    "    else:\n",
    "        fdp = 0\n",
    "    no_discovry = [x for x in range(0, len(true_values)) if x not in lord_index]\n",
    "    \n",
    "    for x in no_discovry:\n",
    "        if true_values[x] == 1:\n",
    "            FN += 1\n",
    "    sensitivity = TP/(TP+FN)\n",
    "    return fdp, sensitivity\n",
    "\n",
    "            "
   ]
  },
  {
   "cell_type": "markdown",
   "metadata": {},
   "source": [
    "2a."
   ]
  },
  {
   "cell_type": "code",
   "execution_count": 88,
   "metadata": {},
   "outputs": [
    {
     "data": {
      "text/plain": [
       "([0.005204354204943734,\n",
       "  0.01392041331009957,\n",
       "  0.02394742582671029,\n",
       "  0.034273876500595615,\n",
       "  0.0305656585628976],\n",
       " [0.8818663079864788,\n",
       "  0.8323027360672078,\n",
       "  0.7575618731728743,\n",
       "  0.5944330724891812,\n",
       "  0.17266110829691356])"
      ]
     },
     "execution_count": 88,
     "metadata": {},
     "output_type": "execute_result"
    }
   ],
   "source": [
    "#Question a\n",
    "import numpy as np\n",
    "\n",
    "p = [0.1, 0.3, 0.5, 0.7, 0.9]\n",
    "n = 1000\n",
    "alpha = 0.05\n",
    "\n",
    "\n",
    "fdr_est = []\n",
    "sen_est = []\n",
    "#for i\n",
    "for x in p:\n",
    "    fdps = []\n",
    "    sensitivity = []\n",
    "    for i in range(0,100):\n",
    "        pi = pvaluesi(n, x)\n",
    "        true_values = pi[1]\n",
    "        p_values = pi[0]\n",
    "        run_lord = LORD(p_values, alpha)\n",
    "        stat = sens_fdp(run_lord, true_values)\n",
    "        fdps.append(stat[0])\n",
    "        sensitivity.append(stat[1])\n",
    "    fdr_est.append(np.mean(fdps))\n",
    "    sen_est.append(np.mean(sensitivity))\n",
    "        \n",
    "fdr_est, sen_est    \n"
   ]
  },
  {
   "cell_type": "code",
   "execution_count": 89,
   "metadata": {},
   "outputs": [
    {
     "data": {
      "text/plain": [
       "([1.2330456226880395e-05,\n",
       "  1.6420361247947455e-05,\n",
       "  5.979921431689218e-05,\n",
       "  0.0,\n",
       "  0.00032407407407407406],\n",
       " [0.881188888888889, 0.8057714285714285, 0.7114, 0.4979999999999999, 0.2429])"
      ]
     },
     "execution_count": 89,
     "metadata": {},
     "output_type": "execute_result"
    }
   ],
   "source": [
    "#for ii\n",
    "\n",
    "fdr_est2 = []\n",
    "sen_est2 = []\n",
    "for x in p:\n",
    "    fdps2 = []\n",
    "    sensitivity2 = []\n",
    "    for i in range(0,100):\n",
    "        pi = pvaluesii(n, x)\n",
    "        true_values = pi[1]\n",
    "        p_values = pi[0]\n",
    "        run_lord = LORD(p_values, alpha)\n",
    "        stat = sens_fdp(run_lord, true_values)\n",
    "        fdps2.append(stat[0])\n",
    "        sensitivity2.append(stat[1])\n",
    "    fdr_est2.append(np.mean(fdps2))\n",
    "    sen_est2.append(np.mean(sensitivity2))\n",
    "fdr_est2, sen_est2  "
   ]
  },
  {
   "cell_type": "code",
   "execution_count": 90,
   "metadata": {},
   "outputs": [
    {
     "data": {
      "text/plain": [
       "([0.00022284248623759178,\n",
       "  0.0003476135696335631,\n",
       "  0.00037896214833436914,\n",
       "  0.0006719571454230792,\n",
       "  0.001867658749172538],\n",
       " [0.8953666666666666,\n",
       "  0.8978714285714287,\n",
       "  0.8964400000000002,\n",
       "  0.8945333333333332,\n",
       "  0.8894])"
      ]
     },
     "execution_count": 90,
     "metadata": {},
     "output_type": "execute_result"
    }
   ],
   "source": [
    "#for iii\n",
    "\n",
    "fdr_est3 = []\n",
    "sen_est3 = []\n",
    "for x in p:\n",
    "    fdps3 = []\n",
    "    sensitivity3 = []\n",
    "    for i in range(0,100):\n",
    "        pi = pvaluesiii(n, x)\n",
    "        true_values = pi[1]\n",
    "        p_values = pi[0]\n",
    "        run_lord = LORD(p_values, alpha)\n",
    "        stat = sens_fdp(run_lord, true_values)\n",
    "        fdps3.append(stat[0])\n",
    "        sensitivity3.append(stat[1])\n",
    "    fdr_est3.append(np.mean(fdps3))\n",
    "    sen_est3.append(np.mean(sensitivity3))\n",
    "fdr_est3, sen_est3 "
   ]
  },
  {
   "cell_type": "code",
   "execution_count": 91,
   "metadata": {},
   "outputs": [
    {
     "data": {
      "text/html": [
       "<div>\n",
       "<style scoped>\n",
       "    .dataframe tbody tr th:only-of-type {\n",
       "        vertical-align: middle;\n",
       "    }\n",
       "\n",
       "    .dataframe tbody tr th {\n",
       "        vertical-align: top;\n",
       "    }\n",
       "\n",
       "    .dataframe thead th {\n",
       "        text-align: right;\n",
       "    }\n",
       "</style>\n",
       "<table border=\"1\" class=\"dataframe\">\n",
       "  <thead>\n",
       "    <tr style=\"text-align: right;\">\n",
       "      <th></th>\n",
       "      <th>pi0</th>\n",
       "      <th>fdr_i</th>\n",
       "      <th>sensitivity_i</th>\n",
       "      <th>fdr_ii</th>\n",
       "      <th>sensitivity_ii</th>\n",
       "      <th>fdr_iii</th>\n",
       "      <th>sensitivity_iii</th>\n",
       "    </tr>\n",
       "  </thead>\n",
       "  <tbody>\n",
       "    <tr>\n",
       "      <th>0</th>\n",
       "      <td>0.1</td>\n",
       "      <td>0.005204</td>\n",
       "      <td>0.881866</td>\n",
       "      <td>0.000012</td>\n",
       "      <td>0.881189</td>\n",
       "      <td>0.000223</td>\n",
       "      <td>0.895367</td>\n",
       "    </tr>\n",
       "    <tr>\n",
       "      <th>1</th>\n",
       "      <td>0.3</td>\n",
       "      <td>0.013920</td>\n",
       "      <td>0.832303</td>\n",
       "      <td>0.000016</td>\n",
       "      <td>0.805771</td>\n",
       "      <td>0.000348</td>\n",
       "      <td>0.897871</td>\n",
       "    </tr>\n",
       "    <tr>\n",
       "      <th>2</th>\n",
       "      <td>0.5</td>\n",
       "      <td>0.023947</td>\n",
       "      <td>0.757562</td>\n",
       "      <td>0.000060</td>\n",
       "      <td>0.711400</td>\n",
       "      <td>0.000379</td>\n",
       "      <td>0.896440</td>\n",
       "    </tr>\n",
       "    <tr>\n",
       "      <th>3</th>\n",
       "      <td>0.7</td>\n",
       "      <td>0.034274</td>\n",
       "      <td>0.594433</td>\n",
       "      <td>0.000000</td>\n",
       "      <td>0.498000</td>\n",
       "      <td>0.000672</td>\n",
       "      <td>0.894533</td>\n",
       "    </tr>\n",
       "    <tr>\n",
       "      <th>4</th>\n",
       "      <td>0.9</td>\n",
       "      <td>0.030566</td>\n",
       "      <td>0.172661</td>\n",
       "      <td>0.000324</td>\n",
       "      <td>0.242900</td>\n",
       "      <td>0.001868</td>\n",
       "      <td>0.889400</td>\n",
       "    </tr>\n",
       "  </tbody>\n",
       "</table>\n",
       "</div>"
      ],
      "text/plain": [
       "   pi0     fdr_i  sensitivity_i    fdr_ii  sensitivity_ii   fdr_iii  \\\n",
       "0  0.1  0.005204       0.881866  0.000012        0.881189  0.000223   \n",
       "1  0.3  0.013920       0.832303  0.000016        0.805771  0.000348   \n",
       "2  0.5  0.023947       0.757562  0.000060        0.711400  0.000379   \n",
       "3  0.7  0.034274       0.594433  0.000000        0.498000  0.000672   \n",
       "4  0.9  0.030566       0.172661  0.000324        0.242900  0.001868   \n",
       "\n",
       "   sensitivity_iii  \n",
       "0         0.895367  \n",
       "1         0.897871  \n",
       "2         0.896440  \n",
       "3         0.894533  \n",
       "4         0.889400  "
      ]
     },
     "execution_count": 91,
     "metadata": {},
     "output_type": "execute_result"
    }
   ],
   "source": [
    "import pandas as pd\n",
    "d = {'pi0': [0.1, 0.3, 0.5, 0.7, 0.9], 'fdr_i': fdr_est, 'sensitivity_i': sen_est,\n",
    "    'fdr_ii': fdr_est2, 'sensitivity_ii': sen_est2, 'fdr_iii': fdr_est3, 'sensitivity_iii': sen_est3}\n",
    "df = pd.DataFrame(data=d)\n",
    "df"
   ]
  },
  {
   "cell_type": "code",
   "execution_count": 92,
   "metadata": {},
   "outputs": [
    {
     "data": {
      "image/png": "[encoded data removed]",
      "text/plain": [
       "<Figure size 432x288 with 1 Axes>"
      ]
     },
     "metadata": {
      "needs_background": "light"
     },
     "output_type": "display_data"
    }
   ],
   "source": [
    "#FDR plot against Pi0 Values\n",
    "import seaborn as sns\n",
    "sns.lineplot(x = \"pi0\", y = \"fdr_i\", data = df, label = \"i\")\n",
    "sns.lineplot(x = \"pi0\", y = \"fdr_ii\", data = df, label = \"ii\")\n",
    "sns.lineplot(x = \"pi0\", y = \"fdr_iii\", data = df, label = \"iii\");\n"
   ]
  },
  {
   "cell_type": "code",
   "execution_count": 93,
   "metadata": {},
   "outputs": [
    {
     "data": {
      "image/png": "[encoded data removed]",
      "text/plain": [
       "<Figure size 432x288 with 1 Axes>"
      ]
     },
     "metadata": {
      "needs_background": "light"
     },
     "output_type": "display_data"
    }
   ],
   "source": [
    "#Sensitivity plot against Pi0 Values\n",
    "sns.lineplot(x = \"pi0\", y = \"sensitivity_i\", data = df, label = \"i\")\n",
    "sns.lineplot(x = \"pi0\", y = \"sensitivity_ii\", data = df, label = \"ii\")\n",
    "sns.lineplot(x = \"pi0\", y = \"sensitivity_iii\", data = df, label = \"iii\");"
   ]
  },
  {
   "cell_type": "markdown",
   "metadata": {},
   "source": [
    "LORD achieves the highest sensitivity in scenario iii. This makes sense because in LORD, the ordering of the p-values matters. We are getting lower p-values earlier, allowing us to make more discoveries, and gain alpha wealth (which in turn also makes it easier to make a discovery). All of this considered, we are making more discoviries, increasing the amount of true positives and thus sensitivity. Sensitivity does not take into acccount the number of FP, but FDP does."
   ]
  },
  {
   "cell_type": "markdown",
   "metadata": {},
   "source": [
    "2b."
   ]
  },
  {
   "cell_type": "code",
   "execution_count": 94,
   "metadata": {},
   "outputs": [],
   "source": [
    "def benjamini_hochberg(p_values, alpha):\n",
    "    \"\"\"\n",
    "    Returns decisions on p-values using Benjamini-Hochberg.\n",
    "    \n",
    "    Inputs:\n",
    "        p_values: array of p-values\n",
    "        alpha: desired FDR (FDR = E[# false positives / # positives])\n",
    "    \n",
    "    Returns:\n",
    "        decisions: binary array of same length as p-values, where `decisions[i]` is 1\n",
    "        if `p_values[i]` is deemed significant, and 0 otherwise\n",
    "    \"\"\"\n",
    "\n",
    "    n = len(p_values)\n",
    "    k = 0\n",
    "    sorted_p = np.sort(p_values)\n",
    "    \n",
    "    for i in reversed(range(n)):\n",
    "        if sorted_p[i] <= (i + 1) * (alpha / n):\n",
    "            break;\n",
    "\n",
    "    decisions = p_values <= sorted_p[i]\n",
    "    return decisions\n",
    "    \n"
   ]
  },
  {
   "cell_type": "code",
   "execution_count": 95,
   "metadata": {},
   "outputs": [],
   "source": [
    "def sens_fdp_bh(lord_index, true_values):\n",
    "    TP = 0\n",
    "    FP = 0\n",
    "    FN = 0\n",
    "    fdp = 0\n",
    "    sensitivity = 0\n",
    "    if sum(lord_index) > 0:\n",
    "        for x in range(len(lord_index)):\n",
    "            if (true_values[x] == 1) and (lord_index[x] == 1):\n",
    "                TP += 1\n",
    "            if (true_values[x] == 0) and (lord_index[x] == 1):\n",
    "                FP += 1\n",
    "        fdp = FP/(TP+FP)\n",
    "    else:\n",
    "        fdp = 0    \n",
    "    for x in range(len(lord_index)):\n",
    "        if (true_values[x] == 1) and (lord_index[x] == 0):\n",
    "            FN += 1\n",
    "    sensitivity = TP/(TP+FN)\n",
    "    return fdp, sensitivity\n"
   ]
  },
  {
   "cell_type": "code",
   "execution_count": 96,
   "metadata": {},
   "outputs": [
    {
     "data": {
      "text/plain": [
       "([0.005127572401572317,\n",
       "  0.014613208472248132,\n",
       "  0.025054390761398686,\n",
       "  0.035903232342611884,\n",
       "  0.04091724364642823],\n",
       " [0.8936329625692965,\n",
       "  0.872249247008029,\n",
       "  0.8337120688349132,\n",
       "  0.7727191138973817,\n",
       "  0.6071833921957291])"
      ]
     },
     "execution_count": 96,
     "metadata": {},
     "output_type": "execute_result"
    }
   ],
   "source": [
    "fdr_estBH = []\n",
    "sen_estBH = []\n",
    "#for i\n",
    "for x in p:\n",
    "    fdpsBH = []\n",
    "    sensitivityBH = []\n",
    "    for i in range(0,100):\n",
    "        pi = pvaluesi(n, x)\n",
    "        true_values = pi[1]\n",
    "        p_values = pi[0]\n",
    "        run_lord = benjamini_hochberg(p_values, alpha)\n",
    "        stat = sens_fdp_bh(run_lord, true_values)\n",
    "        fdpsBH.append(stat[0])\n",
    "        sensitivityBH.append(stat[1])\n",
    "    fdr_estBH.append(np.mean(fdpsBH))\n",
    "    sen_estBH.append(np.mean(sensitivityBH))\n",
    "        \n",
    "fdr_estBH, sen_estBH    \n"
   ]
  },
  {
   "cell_type": "code",
   "execution_count": 97,
   "metadata": {},
   "outputs": [
    {
     "data": {
      "text/plain": [
       "([0.004911392067062572,\n",
       "  0.01533209147057792,\n",
       "  0.02416938075982275,\n",
       "  0.03434805647496606,\n",
       "  0.04375798561644286],\n",
       " [0.8969777777777779,\n",
       "  0.8716142857142857,\n",
       "  0.8385199999999999,\n",
       "  0.7668666666666667,\n",
       "  0.5961])"
      ]
     },
     "execution_count": 97,
     "metadata": {},
     "output_type": "execute_result"
    }
   ],
   "source": [
    "#for ii\n",
    "\n",
    "fdr_est2BH = []\n",
    "sen_est2BH = []\n",
    "for x in p:\n",
    "    fdps2BH = []\n",
    "    sensitivity2BH = []\n",
    "    for i in range(0,100):\n",
    "        pi = pvaluesii(n, x)\n",
    "        true_values = pi[1]\n",
    "        p_values = pi[0]\n",
    "        run_lord = benjamini_hochberg(p_values, alpha)\n",
    "        stat = sens_fdp_bh(run_lord, true_values)\n",
    "        fdps2BH.append(stat[0])\n",
    "        sensitivity2BH.append(stat[1])\n",
    "    fdr_est2BH.append(np.mean(fdps2BH))\n",
    "    sen_est2BH.append(np.mean(sensitivity2BH))\n",
    "fdr_est2BH, sen_est2BH"
   ]
  },
  {
   "cell_type": "code",
   "execution_count": 98,
   "metadata": {},
   "outputs": [
    {
     "data": {
      "text/plain": [
       "([0.005170103386712928,\n",
       "  0.014424508738314001,\n",
       "  0.024663866022470032,\n",
       "  0.03514585534000918,\n",
       "  0.0434140386943077],\n",
       " [0.8984666666666666,\n",
       "  0.8707714285714284,\n",
       "  0.8374599999999998,\n",
       "  0.7745666666666666,\n",
       "  0.6098])"
      ]
     },
     "execution_count": 98,
     "metadata": {},
     "output_type": "execute_result"
    }
   ],
   "source": [
    "#for iii\n",
    "\n",
    "fdr_est3BH = []\n",
    "sen_est3BH = []\n",
    "for x in p:\n",
    "    fdps3BH = []\n",
    "    sensitivity3BH = []\n",
    "    for i in range(0,100):\n",
    "        pi = pvaluesiii(n, x)\n",
    "        true_values = pi[1]\n",
    "        p_values = pi[0]\n",
    "        run_lord = benjamini_hochberg(p_values, alpha)\n",
    "        stat = sens_fdp_bh(run_lord, true_values)\n",
    "        fdps3BH.append(stat[0])\n",
    "        sensitivity3BH.append(stat[1])\n",
    "    fdr_est3BH.append(np.mean(fdps3BH))\n",
    "    sen_est3BH.append(np.mean(sensitivity3BH))\n",
    "fdr_est3BH, sen_est3BH"
   ]
  },
  {
   "cell_type": "code",
   "execution_count": 99,
   "metadata": {},
   "outputs": [
    {
     "data": {
      "text/html": [
       "<div>\n",
       "<style scoped>\n",
       "    .dataframe tbody tr th:only-of-type {\n",
       "        vertical-align: middle;\n",
       "    }\n",
       "\n",
       "    .dataframe tbody tr th {\n",
       "        vertical-align: top;\n",
       "    }\n",
       "\n",
       "    .dataframe thead th {\n",
       "        text-align: right;\n",
       "    }\n",
       "</style>\n",
       "<table border=\"1\" class=\"dataframe\">\n",
       "  <thead>\n",
       "    <tr style=\"text-align: right;\">\n",
       "      <th></th>\n",
       "      <th>pi0</th>\n",
       "      <th>fdr_i</th>\n",
       "      <th>sensitivity_i</th>\n",
       "      <th>fdr_ii</th>\n",
       "      <th>sensitivity_ii</th>\n",
       "      <th>fdr_iii</th>\n",
       "      <th>sensitivity_iii</th>\n",
       "    </tr>\n",
       "  </thead>\n",
       "  <tbody>\n",
       "    <tr>\n",
       "      <th>0</th>\n",
       "      <td>0.1</td>\n",
       "      <td>0.005128</td>\n",
       "      <td>0.893633</td>\n",
       "      <td>0.004911</td>\n",
       "      <td>0.896978</td>\n",
       "      <td>0.005170</td>\n",
       "      <td>0.898467</td>\n",
       "    </tr>\n",
       "    <tr>\n",
       "      <th>1</th>\n",
       "      <td>0.3</td>\n",
       "      <td>0.014613</td>\n",
       "      <td>0.872249</td>\n",
       "      <td>0.015332</td>\n",
       "      <td>0.871614</td>\n",
       "      <td>0.014425</td>\n",
       "      <td>0.870771</td>\n",
       "    </tr>\n",
       "    <tr>\n",
       "      <th>2</th>\n",
       "      <td>0.5</td>\n",
       "      <td>0.025054</td>\n",
       "      <td>0.833712</td>\n",
       "      <td>0.024169</td>\n",
       "      <td>0.838520</td>\n",
       "      <td>0.024664</td>\n",
       "      <td>0.837460</td>\n",
       "    </tr>\n",
       "    <tr>\n",
       "      <th>3</th>\n",
       "      <td>0.7</td>\n",
       "      <td>0.035903</td>\n",
       "      <td>0.772719</td>\n",
       "      <td>0.034348</td>\n",
       "      <td>0.766867</td>\n",
       "      <td>0.035146</td>\n",
       "      <td>0.774567</td>\n",
       "    </tr>\n",
       "    <tr>\n",
       "      <th>4</th>\n",
       "      <td>0.9</td>\n",
       "      <td>0.040917</td>\n",
       "      <td>0.607183</td>\n",
       "      <td>0.043758</td>\n",
       "      <td>0.596100</td>\n",
       "      <td>0.043414</td>\n",
       "      <td>0.609800</td>\n",
       "    </tr>\n",
       "  </tbody>\n",
       "</table>\n",
       "</div>"
      ],
      "text/plain": [
       "   pi0     fdr_i  sensitivity_i    fdr_ii  sensitivity_ii   fdr_iii  \\\n",
       "0  0.1  0.005128       0.893633  0.004911        0.896978  0.005170   \n",
       "1  0.3  0.014613       0.872249  0.015332        0.871614  0.014425   \n",
       "2  0.5  0.025054       0.833712  0.024169        0.838520  0.024664   \n",
       "3  0.7  0.035903       0.772719  0.034348        0.766867  0.035146   \n",
       "4  0.9  0.040917       0.607183  0.043758        0.596100  0.043414   \n",
       "\n",
       "   sensitivity_iii  \n",
       "0         0.898467  \n",
       "1         0.870771  \n",
       "2         0.837460  \n",
       "3         0.774567  \n",
       "4         0.609800  "
      ]
     },
     "execution_count": 99,
     "metadata": {},
     "output_type": "execute_result"
    }
   ],
   "source": [
    "d2 = {'pi0': [0.1, 0.3, 0.5, 0.7, 0.9], 'fdr_i': fdr_estBH, 'sensitivity_i': sen_estBH,\n",
    "    'fdr_ii': fdr_est2BH, 'sensitivity_ii': sen_est2BH, 'fdr_iii': fdr_est3BH, 'sensitivity_iii': sen_est3BH}\n",
    "df2 = pd.DataFrame(data=d2)\n",
    "df2"
   ]
  },
  {
   "cell_type": "code",
   "execution_count": 100,
   "metadata": {},
   "outputs": [
    {
     "data": {
      "image/png": "[encoded data removed]",
      "text/plain": [
       "<Figure size 432x288 with 1 Axes>"
      ]
     },
     "metadata": {
      "needs_background": "light"
     },
     "output_type": "display_data"
    }
   ],
   "source": [
    "#FDR plot against Pi0 Values\n",
    "import seaborn as sns\n",
    "sns.lineplot(x = \"pi0\", y = \"fdr_i\", data = df2, label = \"i\")\n",
    "sns.lineplot(x = \"pi0\", y = \"fdr_ii\", data = df2, label = \"ii\")\n",
    "sns.lineplot(x = \"pi0\", y = \"fdr_iii\", data = df2, label = \"iii\");"
   ]
  },
  {
   "cell_type": "code",
   "execution_count": 101,
   "metadata": {},
   "outputs": [
    {
     "data": {
      "image/png": "[encoded data removed]",
      "text/plain": [
       "<Figure size 432x288 with 1 Axes>"
      ]
     },
     "metadata": {
      "needs_background": "light"
     },
     "output_type": "display_data"
    }
   ],
   "source": [
    "#Sensitivity plot against Pi0 Values\n",
    "ax = sns.lineplot(x = \"pi0\", y = \"sensitivity_i\", data = df2, label = \"i\")\n",
    "ax.lines[0].set_linestyle(\"--\");\n",
    "ax = sns.lineplot(x = \"pi0\", y = \"sensitivity_ii\", data = df2, label = \"ii\")\n",
    "ax.lines[1].set_linestyle(\"--\");\n",
    "ax=sns.lineplot(x = \"pi0\", y = \"sensitivity_iii\", data = df2, label = \"iii\")\n",
    "ax.lines[2].set_linestyle(\"--\");"
   ]
  },
  {
   "cell_type": "markdown",
   "metadata": {},
   "source": [
    "There is less variation between the sensitivity curves in the BH procedure compared to LORD. In LORD, the order of the curves is setting ii(lowest sensitivity), i, iii (highest sensitivity), while the sensitivity curve for all three settings seem the same in BH procedure (there is some noise so it's slightly different). The sensitivity of setting iii is slightly higher than the sensitivity of setting ii, although they are very close. I assume the reason for this is because BH takes in a set of p-values and then sorts them before making decisions; because the p-values generated from all three scenarios are the same, the resulting sensitivities for the three settings should be relatively the same as well. LORD, on the other hand, takes in an ordered set of p-values and uses this ordering for decision-making so it's more varied for each setting."
   ]
  },
  {
   "cell_type": "markdown",
   "metadata": {},
   "source": [
    "3."
   ]
  },
  {
   "cell_type": "code",
   "execution_count": 105,
   "metadata": {},
   "outputs": [
    {
     "data": {
      "text/html": [
       "<div>\n",
       "<style scoped>\n",
       "    .dataframe tbody tr th:only-of-type {\n",
       "        vertical-align: middle;\n",
       "    }\n",
       "\n",
       "    .dataframe tbody tr th {\n",
       "        vertical-align: top;\n",
       "    }\n",
       "\n",
       "    .dataframe thead th {\n",
       "        text-align: right;\n",
       "    }\n",
       "</style>\n",
       "<table border=\"1\" class=\"dataframe\">\n",
       "  <thead>\n",
       "    <tr style=\"text-align: right;\">\n",
       "      <th></th>\n",
       "      <th>Unnamed: 0</th>\n",
       "      <th>x</th>\n",
       "    </tr>\n",
       "  </thead>\n",
       "  <tbody>\n",
       "    <tr>\n",
       "      <th>0</th>\n",
       "      <td>1</td>\n",
       "      <td>2.411365</td>\n",
       "    </tr>\n",
       "    <tr>\n",
       "      <th>1</th>\n",
       "      <td>2</td>\n",
       "      <td>0.160788</td>\n",
       "    </tr>\n",
       "    <tr>\n",
       "      <th>2</th>\n",
       "      <td>3</td>\n",
       "      <td>-0.852171</td>\n",
       "    </tr>\n",
       "    <tr>\n",
       "      <th>3</th>\n",
       "      <td>4</td>\n",
       "      <td>0.151016</td>\n",
       "    </tr>\n",
       "    <tr>\n",
       "      <th>4</th>\n",
       "      <td>5</td>\n",
       "      <td>1.836084</td>\n",
       "    </tr>\n",
       "  </tbody>\n",
       "</table>\n",
       "</div>"
      ],
      "text/plain": [
       "   Unnamed: 0         x\n",
       "0           1  2.411365\n",
       "1           2  0.160788\n",
       "2           3 -0.852171\n",
       "3           4  0.151016\n",
       "4           5  1.836084"
      ]
     },
     "execution_count": 105,
     "metadata": {},
     "output_type": "execute_result"
    }
   ],
   "source": [
    "police = pd.read_csv(\"policez.csv\")\n",
    "police.head()"
   ]
  },
  {
   "cell_type": "markdown",
   "metadata": {},
   "source": [
    "3a."
   ]
  },
  {
   "cell_type": "code",
   "execution_count": 106,
   "metadata": {},
   "outputs": [
    {
     "data": {
      "image/png": "[encoded data removed]",
      "text/plain": [
       "<Figure size 432x288 with 1 Axes>"
      ]
     },
     "metadata": {
      "needs_background": "light"
     },
     "output_type": "display_data"
    }
   ],
   "source": [
    "from scipy.stats import norm\n",
    "import scipy.stats as ss\n",
    "\n",
    "import matplotlib.pyplot as plt\n",
    "fig, ax = plt.subplots(1, 1)\n",
    "\n",
    "x = np.linspace(-5, 5, 5000)\n",
    "mu = 0\n",
    "sigma = 1\n",
    "\n",
    "ax.plot(x, ss.norm.pdf(x, mu, sigma),\n",
    "       'r-', lw=5, alpha=0.6, label='norm pdf')\n",
    "ax.hist(police['x'], density=True, histtype='stepfilled')\n",
    "plt.show()\n"
   ]
  },
  {
   "cell_type": "markdown",
   "metadata": {},
   "source": [
    "3a. It is not the greatest fit: the histogram is more spread out than the line plot of the pdf, thus the curve is higher and narrower than the histogram."
   ]
  },
  {
   "cell_type": "code",
   "execution_count": 107,
   "metadata": {},
   "outputs": [],
   "source": [
    "p_vals = []\n",
    "for x in police['x']:\n",
    "    p_vals.append(norm.cdf(-x, 0, 1))\n",
    "p = len(p_vals)"
   ]
  },
  {
   "cell_type": "code",
   "execution_count": 108,
   "metadata": {},
   "outputs": [
    {
     "data": {
      "text/html": [
       "<div>\n",
       "<style scoped>\n",
       "    .dataframe tbody tr th:only-of-type {\n",
       "        vertical-align: middle;\n",
       "    }\n",
       "\n",
       "    .dataframe tbody tr th {\n",
       "        vertical-align: top;\n",
       "    }\n",
       "\n",
       "    .dataframe thead th {\n",
       "        text-align: right;\n",
       "    }\n",
       "</style>\n",
       "<table border=\"1\" class=\"dataframe\">\n",
       "  <thead>\n",
       "    <tr style=\"text-align: right;\">\n",
       "      <th></th>\n",
       "      <th>x_vals</th>\n",
       "      <th>yvals</th>\n",
       "      <th>pvals</th>\n",
       "    </tr>\n",
       "  </thead>\n",
       "  <tbody>\n",
       "    <tr>\n",
       "      <th>0</th>\n",
       "      <td>1</td>\n",
       "      <td>0.000073</td>\n",
       "      <td>1.794564e-12</td>\n",
       "    </tr>\n",
       "    <tr>\n",
       "      <th>1</th>\n",
       "      <td>2</td>\n",
       "      <td>0.000146</td>\n",
       "      <td>3.853529e-11</td>\n",
       "    </tr>\n",
       "    <tr>\n",
       "      <th>2</th>\n",
       "      <td>3</td>\n",
       "      <td>0.000218</td>\n",
       "      <td>5.881356e-09</td>\n",
       "    </tr>\n",
       "    <tr>\n",
       "      <th>3</th>\n",
       "      <td>4</td>\n",
       "      <td>0.000291</td>\n",
       "      <td>4.150348e-08</td>\n",
       "    </tr>\n",
       "    <tr>\n",
       "      <th>4</th>\n",
       "      <td>5</td>\n",
       "      <td>0.000364</td>\n",
       "      <td>4.023405e-07</td>\n",
       "    </tr>\n",
       "  </tbody>\n",
       "</table>\n",
       "</div>"
      ],
      "text/plain": [
       "   x_vals     yvals         pvals\n",
       "0       1  0.000073  1.794564e-12\n",
       "1       2  0.000146  3.853529e-11\n",
       "2       3  0.000218  5.881356e-09\n",
       "3       4  0.000291  4.150348e-08\n",
       "4       5  0.000364  4.023405e-07"
      ]
     },
     "execution_count": 108,
     "metadata": {},
     "output_type": "execute_result"
    }
   ],
   "source": [
    "d3 = {'x_vals': range(1, p+1)}\n",
    "df3 = pd.DataFrame(data=d3)\n",
    "df3['yvals'] = df3['x_vals']*(0.2/p)\n",
    "df3['pvals'] = sorted(p_vals)\n",
    "df3.head()"
   ]
  },
  {
   "cell_type": "code",
   "execution_count": 109,
   "metadata": {},
   "outputs": [
    {
     "data": {
      "image/png": "[encoded data removed]",
      "text/plain": [
       "<Figure size 432x288 with 1 Axes>"
      ]
     },
     "metadata": {
      "needs_background": "light"
     },
     "output_type": "display_data"
    }
   ],
   "source": [
    "import matplotlib.pyplot as plt\n",
    "\n",
    "ax = df3[['x_vals', 'yvals']].plot(x='x_vals')\n",
    "df3[['x_vals', 'pvals']].plot(x='x_vals', kind='bar',ax=ax, color = 'orange')\n",
    "ax.axvline(x=201)\n",
    "ax.set_xticks([0, 1500, 2500])\n",
    "ax.set_xticklabels([0, 1500, 2500])\n",
    "ax.plot(df3['x_vals'], df3['pvals'],\n",
    "       'r-', lw=2, alpha=0.4, label='pval pdf')\n",
    "plt.show()"
   ]
  },
  {
   "cell_type": "code",
   "execution_count": 110,
   "metadata": {},
   "outputs": [
    {
     "data": {
      "text/plain": [
       "201"
      ]
     },
     "execution_count": 110,
     "metadata": {},
     "output_type": "execute_result"
    }
   ],
   "source": [
    "sum(benjamini_hochberg(p_vals, 0.2))"
   ]
  },
  {
   "cell_type": "markdown",
   "metadata": {},
   "source": [
    "b) I made 201 discoveries."
   ]
  },
  {
   "cell_type": "code",
   "execution_count": 111,
   "metadata": {},
   "outputs": [
    {
     "data": {
      "image/png": "[encoded data removed]",
      "text/plain": [
       "<Figure size 432x288 with 1 Axes>"
      ]
     },
     "metadata": {
      "needs_background": "light"
     },
     "output_type": "display_data"
    }
   ],
   "source": [
    "#3c\n",
    "x = np.linspace(-5, 5, 5000)\n",
    "mu = 0.1\n",
    "sigma = 1.4**2\n",
    "fig, ax = plt.subplots(1, 1)\n",
    "ax.plot(x, ss.norm.pdf(x, mu, sigma),\n",
    "       'r-', lw=5, alpha=0.6, label='norm pdf')\n",
    "ax.hist(police['x'], density=True, histtype='stepfilled')\n",
    "plt.show()"
   ]
  },
  {
   "cell_type": "markdown",
   "metadata": {},
   "source": [
    "This pdf is much more fitted on the histogram."
   ]
  },
  {
   "cell_type": "code",
   "execution_count": 112,
   "metadata": {},
   "outputs": [
    {
     "data": {
      "text/plain": [
       "5"
      ]
     },
     "execution_count": 112,
     "metadata": {},
     "output_type": "execute_result"
    }
   ],
   "source": [
    "p_vals2 = []\n",
    "for y in police['x']:\n",
    "    p_vals2.append(1-norm.cdf(-y, 0.1, 1.4))\n",
    "p = len(p_vals2)\n",
    "sm = sum(benjamini_hochberg(p_vals2, 0.2))\n",
    "sm"
   ]
  },
  {
   "cell_type": "markdown",
   "metadata": {},
   "source": [
    "In 3c, I made 5 discoveries."
   ]
  },
  {
   "cell_type": "code",
   "execution_count": 113,
   "metadata": {},
   "outputs": [],
   "source": [
    "df3 = {'x_vals': range(1, p+1)}\n",
    "df3 = pd.DataFrame(data=df3)\n",
    "df3['yvals'] = df3['x_vals']*(0.2/p)\n",
    "df3['pvals'] = sorted(p_vals2)\n"
   ]
  },
  {
   "cell_type": "code",
   "execution_count": 114,
   "metadata": {},
   "outputs": [
    {
     "data": {
      "image/png": "[encoded data removed]",
      "text/plain": [
       "<Figure size 432x288 with 1 Axes>"
      ]
     },
     "metadata": {
      "needs_background": "light"
     },
     "output_type": "display_data"
    }
   ],
   "source": [
    "ax = df3[['x_vals', 'yvals']].plot(x='x_vals')\n",
    "df3[['x_vals', 'pvals']].plot(x='x_vals', kind='bar',ax=ax, color = 'orange')\n",
    "ax.axvline(x=sm)\n",
    "ax.set_xticks([0, 1500, 2500])\n",
    "ax.set_xticklabels([0, 1500, 2500])\n",
    "ax.plot(df3['x_vals'], df3['pvals'],\n",
    "       'r-', lw=2, alpha=0.4, label='pval pdf')\n",
    "plt.show()"
   ]
  },
  {
   "cell_type": "markdown",
   "metadata": {},
   "source": [
    "3D. By replacing the theoretical null, we are assuming that the real distribution of z does not follow N(0,1) because when we use N(0,1), we assume that the distribution of z follows N(0,1) (aka centered at 0) after many repetition of samples. We are now deciding that the actual distribution of z more cloesly follows N(0.10, 1.4^2) by making the assumption that the data has a lot of null cases and thus the data can show the null distribution itself. The limitation of using the theoretical null is that the theoretical null doesn't fit the z-scores of this dataset that well so the p-values will tend to be smaller, allowing for more discoveries, and more false positive discoveries. "
   ]
  },
  {
   "cell_type": "code",
   "execution_count": null,
   "metadata": {},
   "outputs": [],
   "source": []
  }
 ],
 "metadata": {
  "kernelspec": {
   "display_name": "Python 3",
   "language": "python",
   "name": "python3"
  },
  "language_info": {
   "codemirror_mode": {
    "name": "ipython",
    "version": 3
   },
   "file_extension": ".py",
   "mimetype": "text/x-python",
   "name": "python",
   "nbconvert_exporter": "python",
   "pygments_lexer": "ipython3",
   "version": "3.7.3"
  }
 },
 "nbformat": 4,
 "nbformat_minor": 4
}
