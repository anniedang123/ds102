{
 "cells": [
  {
   "cell_type": "markdown",
   "metadata": {},
   "source": [
    "# 1. Simulation Study of Bandit Algorithms"
   ]
  },
  {
   "cell_type": "markdown",
   "metadata": {},
   "source": [
    "## 1a. Epsilon Greedy"
   ]
  },
  {
   "cell_type": "code",
   "execution_count": 1,
   "metadata": {},
   "outputs": [
    {
     "name": "stdout",
     "output_type": "stream",
     "text": [
      "The expected value of the total reward for the epsilon greedy algorithm is:  35.25039644441941\n"
     ]
    }
   ],
   "source": [
    "import numpy as np\n",
    "\n",
    "def egreedy(c, epsilon):\n",
    "    arm1_rewards = []\n",
    "    arm2_rewards = []\n",
    "    for t in range(1, c*2 + 1):\n",
    "        a_t = (t%2) + 1\n",
    "        if a_t == 1:\n",
    "            arm1_rewards.append(np.random.normal(0, 1))\n",
    "        if a_t == 2:\n",
    "            arm2_rewards.append(np.random.normal(1, 1))\n",
    "    for t in range(c*2 + 1, 51):\n",
    "        coin = np.random.binomial(1, epsilon)\n",
    "        if coin == 1:\n",
    "            a_t = np.random.choice([1,2])\n",
    "            if a_t == 1:\n",
    "                arm1_rewards.append(np.random.normal(0, 1))\n",
    "            if a_t == 2:\n",
    "                arm2_rewards.append(np.random.normal(1, 1))   \n",
    "        else:\n",
    "            if np.mean(arm1_rewards) > np.mean(arm2_rewards):\n",
    "                arm1_rewards.append(np.random.normal(0, 1))\n",
    "            elif np.mean(arm2_rewards) > np.mean(arm1_rewards):\n",
    "                arm2_rewards.append(np.random.normal(1, 1))\n",
    "    return arm1_rewards, arm2_rewards\n",
    "\n",
    "eg_g = []\n",
    "for b in range(200):\n",
    "    x = egreedy(4, 0.5)\n",
    "    eg_g.append(sum(x[0] + x[1]))\n",
    "print(\"The expected value of the total reward for the epsilon greedy algorithm is: \", np.mean(eg_g))"
   ]
  },
  {
   "cell_type": "code",
   "execution_count": 7,
   "metadata": {},
   "outputs": [
    {
     "data": {
      "image/png": "[encoded data removed]",
      "text/plain": [
       "<Figure size 432x288 with 1 Axes>"
      ]
     },
     "metadata": {
      "needs_background": "light"
     },
     "output_type": "display_data"
    }
   ],
   "source": [
    "import matplotlib.pyplot as plt\n",
    "\n",
    "plt.hist(eg_g, density = False, bins=10)  \n",
    "plt.ylabel('Frequency')\n",
    "plt.xlabel('Rewards');"
   ]
  },
  {
   "cell_type": "markdown",
   "metadata": {},
   "source": [
    "## 1b. Explore then commit"
   ]
  },
  {
   "cell_type": "code",
   "execution_count": 3,
   "metadata": {},
   "outputs": [
    {
     "name": "stdout",
     "output_type": "stream",
     "text": [
      "The expected value of the total reward for the explore then commit algorithm is:  41.84990960790826\n"
     ]
    }
   ],
   "source": [
    "def explore_then_commit(c):\n",
    "    arm1_rewards = []\n",
    "    arm2_rewards = []\n",
    "    for t in range(1, c*2 + 1):\n",
    "        a_t = (t%2) + 1\n",
    "        if a_t == 1:\n",
    "            arm1_rewards.append(np.random.normal(0, 1))\n",
    "        if a_t == 2:\n",
    "            arm2_rewards.append(np.random.normal(1, 1))\n",
    "    highest_avg_reward_arm = 0\n",
    "    if np.mean(arm1_rewards) > np.mean(arm2_rewards):\n",
    "        highest_avg_reward_arm = 1\n",
    "    elif np.mean(arm2_rewards) > np.mean(arm1_rewards):\n",
    "        highest_avg_reward_arm = 2 \n",
    "    for t in range(c*2 + 1, 51):\n",
    "        if highest_avg_reward_arm == 1:\n",
    "            arm1_rewards.append(np.random.normal(0, 1))\n",
    "        elif highest_avg_reward_arm == 2:\n",
    "            arm2_rewards.append(np.random.normal(1, 1))\n",
    "    return arm1_rewards, arm2_rewards\n",
    "ec_g = []\n",
    "for b in range(200):\n",
    "    x = explore_then_commit(4)\n",
    "    ec_g.append(sum(x[0] + x[1]))\n",
    "print(\"The expected value of the total reward for the explore then commit algorithm is: \", np.mean(ec_g))"
   ]
  },
  {
   "cell_type": "code",
   "execution_count": 4,
   "metadata": {},
   "outputs": [
    {
     "data": {
      "image/png": "[encoded data removed]",
      "text/plain": [
       "<Figure size 432x288 with 1 Axes>"
      ]
     },
     "metadata": {
      "needs_background": "light"
     },
     "output_type": "display_data"
    }
   ],
   "source": [
    "plt.hist(ec_g, density = False, bins=10)  \n",
    "plt.ylabel('Frequency')\n",
    "plt.xlabel('Rewards');"
   ]
  },
  {
   "cell_type": "markdown",
   "metadata": {},
   "source": [
    "The average total reward for the explore then commit algorithm is higher than that of the epsilon greedy algorithm. The distribution of the epsilon greedy algorithm is more normal/guassian and also unimodal. The explore then commit distribution, on the other hand, seems to be bimodal and has two separate distributions with a gap between the two: one from 0-25 and another from 30-60."
   ]
  },
  {
   "cell_type": "markdown",
   "metadata": {},
   "source": [
    "## 1c. UCB"
   ]
  },
  {
   "cell_type": "code",
   "execution_count": 5,
   "metadata": {},
   "outputs": [
    {
     "name": "stdout",
     "output_type": "stream",
     "text": [
      "The expected value of the total reward for the UCB algorithm is:  45.22700308755868\n"
     ]
    }
   ],
   "source": [
    "def UCB(c):\n",
    "    arm1_rewards = []\n",
    "    arm2_rewards = []\n",
    "    for t in range(1, c*2 + 1):\n",
    "        a_t = (t%2) + 1\n",
    "        if a_t == 1:\n",
    "            arm1_rewards.append(np.random.normal(0, 1))\n",
    "        if a_t == 2:\n",
    "            arm2_rewards.append(np.random.normal(1, 1))\n",
    "    for t in range(c*2 + 1, 51):\n",
    "        arm1_ci = np.mean(arm1_rewards) + np.sqrt((2*np.log(20))/len(arm1_rewards))\n",
    "        arm2_ci = np.mean(arm2_rewards) + np.sqrt((2*np.log(20))/len(arm2_rewards))\n",
    "        if arm1_ci > arm2_ci:\n",
    "            arm1_rewards.append(np.random.normal(0, 1))\n",
    "        elif arm2_ci > arm1_ci:\n",
    "            arm2_rewards.append(np.random.normal(1, 1))\n",
    "    return arm1_rewards, arm2_rewards\n",
    "\n",
    "ucb_g = []\n",
    "for b in range(200):\n",
    "    x = UCB(4)\n",
    "    ucb_g.append(sum(x[0] + x[1]))\n",
    "print(\"The expected value of the total reward for the UCB algorithm is: \", np.mean(ucb_g))\n"
   ]
  },
  {
   "cell_type": "code",
   "execution_count": 6,
   "metadata": {},
   "outputs": [
    {
     "data": {
      "image/png": "[encoded data removed]",
      "text/plain": [
       "<Figure size 432x288 with 1 Axes>"
      ]
     },
     "metadata": {
      "needs_background": "light"
     },
     "output_type": "display_data"
    }
   ],
   "source": [
    "plt.hist(ucb_g, density = False, bins=10)  \n",
    "plt.ylabel('Frequency')\n",
    "plt.xlabel('Rewards');"
   ]
  },
  {
   "cell_type": "markdown",
   "metadata": {},
   "source": [
    "The average of the UCB algorithm is higher than that of the explore than commit algorithm. The UCB algorithm is more normal/guassian, unimodal, and doesn't have a gap in its distribution. This is different from the explore then commit distribution, which did have a separation in its distribution and two modes."
   ]
  },
  {
   "cell_type": "code",
   "execution_count": null,
   "metadata": {},
   "outputs": [],
   "source": []
  }
 ],
 "metadata": {
  "kernelspec": {
   "display_name": "Python 3",
   "language": "python",
   "name": "python3"
  },
  "language_info": {
   "codemirror_mode": {
    "name": "ipython",
    "version": 3
   },
   "file_extension": ".py",
   "mimetype": "text/x-python",
   "name": "python",
   "nbconvert_exporter": "python",
   "pygments_lexer": "ipython3",
   "version": "3.7.3"
  }
 },
 "nbformat": 4,
 "nbformat_minor": 4
}
